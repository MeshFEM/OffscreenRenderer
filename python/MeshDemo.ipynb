{
 "cells": [
  {
   "cell_type": "code",
   "execution_count": null,
   "metadata": {},
   "outputs": [],
   "source": [
    "import OffscreenRenderer as ogl, video_writer\n",
    "import pickle, gzip, numpy as np"
   ]
  },
  {
   "cell_type": "code",
   "execution_count": null,
   "metadata": {},
   "outputs": [],
   "source": [
    "width, height, P, N, C, modParams, camParams = pickle.load(gzip.open('data/render_data.pkl.gz'))\n",
    "width, height = 2 * np.array([width, height]) # Render at 2x resolution\n",
    "# C = np.array([0.5, 0.7, 1.0]) # override input colors with a constant color\n",
    "camParams[0] += np.array(camParams[2]) # View from slightly above"
   ]
  },
  {
   "cell_type": "code",
   "execution_count": null,
   "metadata": {},
   "outputs": [],
   "source": [
    "mrender = ogl.MeshRenderer(width, height)\n",
    "mrender.setMesh(P, None, N, C)\n",
    "\n",
    "mrender.lookAt(*camParams)\n",
    "mrender.modelMatrix(*modParams)\n",
    "mrender.perspective(50, width / height, 0.1, 2000)\n",
    "\n",
    "mrender.meshes[0].alpha = 0.5\n",
    "mrender.meshes[0].lineWidth = 1.5\n",
    "mrender.meshes[0].shininess = 100.0\n",
    "mrender.specularIntensity[:] = 2.0"
   ]
  },
  {
   "cell_type": "code",
   "execution_count": null,
   "metadata": {},
   "outputs": [],
   "source": [
    "# Render and display image inline\n",
    "mrender.render()\n",
    "mrender.image().resize((width//2, height//2))"
   ]
  },
  {
   "cell_type": "markdown",
   "metadata": {},
   "source": [
    "## Write an animation using MeshRenderer's animation callback"
   ]
  },
  {
   "cell_type": "markdown",
   "metadata": {},
   "source": [
    "Default settings (H264, 30fps, full size)"
   ]
  },
  {
   "cell_type": "code",
   "execution_count": null,
   "metadata": {},
   "outputs": [],
   "source": [
    "nframes = 360\n",
    "def cb(r, i): r.orbitedLookAt(*camParams, camParams[-1], 2  * np.pi / nframes * i)\n",
    "mrender.renderAnimation('orbit.mp4', nframes, cb)"
   ]
  },
  {
   "cell_type": "markdown",
   "metadata": {},
   "source": [
    "HEVC output, 60fps, downscaled"
   ]
  },
  {
   "cell_type": "code",
   "execution_count": null,
   "metadata": {},
   "outputs": [],
   "source": [
    "nframes = 360\n",
    "mrender.renderAnimation('orbit_scaled_hevc.mp4', nframes, cb, framerate=60,\n",
    "                        outWidth=width//2, outHeight=height//2, codec=video_writer.Codec.HEVC)"
   ]
  },
  {
   "cell_type": "markdown",
   "metadata": {},
   "source": [
    "PNG image sequence with transparent background (slow, large files :()"
   ]
  },
  {
   "cell_type": "code",
   "execution_count": null,
   "metadata": {},
   "outputs": [],
   "source": [
    "mrender.transparentBackground = True\n",
    "mrender.renderAnimation('orbit_image_seq', nframes, cb,\n",
    "                        outWidth=width//2, outHeight=height//2, codec=video_writer.Codec.ImgSeq)"
   ]
  },
  {
   "cell_type": "markdown",
   "metadata": {},
   "source": [
    "## Write an animation using the lower-level MeshRendererVideoWriter class"
   ]
  },
  {
   "cell_type": "code",
   "execution_count": null,
   "metadata": {},
   "outputs": [],
   "source": [
    "vw = video_writer.MeshRendererVideoWriter('orbit_lowlevel.mp4', mrender, outWidth=width//2, outHeight=height//2)\n",
    "nframes = 360\n",
    "for angle in np.linspace(0, 2 * np.pi, nframes):\n",
    "    mrender.orbitedLookAt(*camParams, camParams[-1], angle)\n",
    "    vw.writeFrame()\n",
    "del vw"
   ]
  }
 ],
 "metadata": {
  "kernelspec": {
   "display_name": "Python 3",
   "language": "python",
   "name": "python3"
  },
  "language_info": {
   "codemirror_mode": {
    "name": "ipython",
    "version": 3
   },
   "file_extension": ".py",
   "mimetype": "text/x-python",
   "name": "python",
   "nbconvert_exporter": "python",
   "pygments_lexer": "ipython3",
   "version": "3.9.0+"
  }
 },
 "nbformat": 4,
 "nbformat_minor": 4
}
