{
 "cells": [
  {
   "cell_type": "code",
   "execution_count": null,
   "metadata": {},
   "outputs": [],
   "source": [
    "import OffscreenRenderer as ogl\n",
    "import numpy as np"
   ]
  },
  {
   "cell_type": "code",
   "execution_count": null,
   "metadata": {},
   "outputs": [],
   "source": [
    "ctx = ogl.OpenGLContext(1920, 1200)\n",
    "ctx.makeCurrent()"
   ]
  },
  {
   "cell_type": "code",
   "execution_count": null,
   "metadata": {},
   "outputs": [],
   "source": [
    "ctx.enable(ogl.GLenum.GL_DEPTH_TEST)"
   ]
  },
  {
   "cell_type": "code",
   "execution_count": null,
   "metadata": {},
   "outputs": [],
   "source": [
    "vtxShader = '''\n",
    "#version 140\n",
    "#extension GL_ARB_explicit_attrib_location : enable\n",
    "\n",
    "layout (location = 0) in vec3 v_position; // bind v_position to attribute 0\n",
    "layout (location = 1) in vec4 v_color;    // bind v_color    to attribute 1\n",
    "\n",
    "uniform mat4 mvp; // model-view-projection matrix\n",
    "\n",
    "out vec4 v4f_color; // Output to be interpolated and read by fragment shader\n",
    "\n",
    "void main() {\n",
    "    // pass through color and position from the vertex attributes\n",
    "    v4f_color = v_color;\n",
    "    gl_Position = mvp * vec4(v_position, 1.0);\n",
    "}\n",
    "'''\n",
    "\n",
    "fragShader = '''\n",
    "#version 140\n",
    "\n",
    "in  vec4 v4f_color; // Interpolated input read from vertex shader\n",
    "out vec4 f_color;   // Final color output produced by fragment shader.\n",
    "                    // (Can name this anything you want...)\n",
    "uniform vec3 custom;\n",
    "\n",
    "void main() {\n",
    "    // pass through interpolated fragment color\n",
    "    f_color = v4f_color;\n",
    "}\n",
    "'''\n",
    "\n",
    "shader = ogl.Shader(vtxShader, fragShader)"
   ]
  },
  {
   "cell_type": "code",
   "execution_count": null,
   "metadata": {},
   "outputs": [],
   "source": [
    "shader.uniforms"
   ]
  },
  {
   "cell_type": "code",
   "execution_count": null,
   "metadata": {},
   "outputs": [],
   "source": [
    "shader.attributes"
   ]
  },
  {
   "cell_type": "code",
   "execution_count": null,
   "metadata": {},
   "outputs": [],
   "source": [
    "vao = ogl.VertexArrayObject()\n",
    "\n",
    "# Attribute 0: Positions\n",
    "vao.setAttribute(0, [[-0.5, -0.5, 0.0],\n",
    "                     [ 0.5, -0.5, 0.0],\n",
    "                     [-0.5,  0.5, 0.0]])\n",
    "# Attribute 1: Colors\n",
    "vao.setAttribute(1, [[1.0, 0.0, 0.0, 1.0],\n",
    "                     [0.0, 1.0, 0.0, 1.0],\n",
    "                     [0.0, 0.0, 1.0, 1.0]])\n",
    "\n",
    "# vao.setIndexBuffer(np.array([0, 1, 2])) # optional"
   ]
  },
  {
   "cell_type": "code",
   "execution_count": null,
   "metadata": {},
   "outputs": [],
   "source": [
    "ctx.clear([0.1, 0.2, 0.4])\n",
    "shader.setUniform('mvp', [[1.5,   0, 0, -0.2],\n",
    "                          [  0, 1.5, 0,  0.2],\n",
    "                          [  0,   0, 1,    0],\n",
    "                          [  0,   0, 0,    1]])\n",
    "vao.draw(shader)\n",
    "\n",
    "ctx.image()"
   ]
  }
 ],
 "metadata": {
  "kernelspec": {
   "display_name": "Python 3",
   "language": "python",
   "name": "python3"
  },
  "language_info": {
   "codemirror_mode": {
    "name": "ipython",
    "version": 3
   },
   "file_extension": ".py",
   "mimetype": "text/x-python",
   "name": "python",
   "nbconvert_exporter": "python",
   "pygments_lexer": "ipython3",
   "version": "3.8.6"
  }
 },
 "nbformat": 4,
 "nbformat_minor": 4
}
