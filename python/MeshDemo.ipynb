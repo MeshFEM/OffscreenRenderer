{
 "cells": [
  {
   "cell_type": "code",
   "execution_count": null,
   "metadata": {},
   "outputs": [],
   "source": [
    "import offscreen_renderer as ogl\n",
    "import pickle, gzip\n",
    "import numpy as np"
   ]
  },
  {
   "cell_type": "code",
   "execution_count": null,
   "metadata": {},
   "outputs": [],
   "source": [
    "width, height, P, N, C, projMat, viewMat, modelMat = pickle.load(gzip.open('data/render_data.pkl.gz'))"
   ]
  },
  {
   "cell_type": "code",
   "execution_count": null,
   "metadata": {},
   "outputs": [],
   "source": [
    "ctx = ogl.OpenGLContext(2 * width, 2 * height)"
   ]
  },
  {
   "cell_type": "code",
   "execution_count": null,
   "metadata": {},
   "outputs": [],
   "source": [
    "ctx.makeCurrent()\n",
    "ctx.clear([2/3, 2/3, 2/3, 0])\n",
    "white = np.ones(3)\n",
    "# C = 0.75 * white # test constant vertex attribute by overriding vertex colors\n",
    "ctx.renderMeshNonIndexed(P, N, C, projMat, viewMat @ modelMat,\n",
    "                         lightEyePos=[0, 0, 5], diffuseIntensity=0.6 * white,\n",
    "                         ambientIntensity=0.5 * white, specularIntensity=0.2 * white,\n",
    "                         shininess=10.0,\n",
    "                         lineWidth=1.0, alpha=1.0)"
   ]
  },
  {
   "cell_type": "code",
   "execution_count": null,
   "metadata": {},
   "outputs": [],
   "source": [
    "ctx.image()"
   ]
  },
  {
   "cell_type": "code",
   "execution_count": null,
   "metadata": {},
   "outputs": [],
   "source": [
    "ctx.save('out.png')"
   ]
  }
 ],
 "metadata": {
  "kernelspec": {
   "display_name": "Python 3",
   "language": "python",
   "name": "python3"
  },
  "language_info": {
   "codemirror_mode": {
    "name": "ipython",
    "version": 3
   },
   "file_extension": ".py",
   "mimetype": "text/x-python",
   "name": "python",
   "nbconvert_exporter": "python",
   "pygments_lexer": "ipython3",
   "version": "3.8.5"
  }
 },
 "nbformat": 4,
 "nbformat_minor": 4
}
